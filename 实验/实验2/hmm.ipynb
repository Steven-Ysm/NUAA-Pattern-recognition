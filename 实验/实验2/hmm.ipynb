{
 "cells": [
  {
   "cell_type": "code",
   "execution_count": 30,
   "metadata": {},
   "outputs": [],
   "source": [
    "import numpy as np"
   ]
  },
  {
   "cell_type": "code",
   "execution_count": 31,
   "metadata": {},
   "outputs": [],
   "source": [
    "class HiddenMarkov(object):\n",
    "    def __init__(self):\n",
    "        self.alpha = None \n",
    "        self.beta = None \n",
    "    \n",
    "    # =========== 前向算法 =============\n",
    "    def forward(self, A, B, pi, O, N, T):\n",
    "        self.alpha = []\n",
    "        # 初始化alpha1\n",
    "        a1 = pi * B[:,O[0]] \n",
    "        self.alpha.append(a1) \n",
    "        print(f\"alpha{1} {a1}\")\n",
    "\n",
    "        for i in range(1, T):\n",
    "            ai = np.dot(self.alpha[i - 1], A) * B[:, O[i]] \n",
    "            self.alpha.append(ai) \n",
    "            print(f\"alpha{i + 1} {ai}\")\n",
    "\n",
    "        print(f\"前向算法：观测序列O出现的概率为{np.sum(self.alpha[T-1]):.6f}\")\n",
    "\n",
    "    # =========== 后向算法 =============\n",
    "    def backward(self, A, B, pi, O, N, T):\n",
    "        self.beta = [] \n",
    "        # 初始化beta1\n",
    "        b1 = np.ones(N)\n",
    "        self.beta.append(b1)\n",
    "        print(f\"beta{T} {b1}\")\n",
    "\n",
    "        for i in range(1, T):\n",
    "            bi = np.dot(self.beta[i - 1] * B[:,O[T - i]], A.T) \n",
    "            self.beta.append(bi)\n",
    "            print(f\"beta{T - i} {bi}\")\n",
    "\n",
    "        print(f\"后向算法：观测序列O出现的概率为{np.sum(self.beta[T - 1] * B[:, O[0]] * pi):.6f}\")"
   ]
  },
  {
   "cell_type": "code",
   "execution_count": 32,
   "metadata": {},
   "outputs": [],
   "source": [
    "A = np.array([[0.5, 0.2, 0.3], [0.3, 0.5, 0.2], [0.2, 0.3, 0.5]])\n",
    "B = np.array([[0.5, 0.5], [0.4, 0.6], [0.7, 0.3]])\n",
    "pi = np.array([0.2,0.4,0.4])\n",
    "O = np.array([0 ,1, 1, 0, 0]) # 观测序列 0表示红，1表示白\n",
    "\n",
    "N = 3 \n",
    "T = 5"
   ]
  },
  {
   "cell_type": "code",
   "execution_count": 33,
   "metadata": {},
   "outputs": [
    {
     "name": "stdout",
     "output_type": "stream",
     "text": [
      "alpha1 [0.1  0.16 0.28]\n",
      "alpha2 [0.077  0.1104 0.0606]\n",
      "alpha3 [0.04187  0.053268 0.022644]\n",
      "alpha4 [0.0207221  0.01672048 0.02417562]\n",
      "alpha5 [0.01010616 0.00790294 0.01515398]\n",
      "前向算法：观测序列O出现的概率为0.033163\n"
     ]
    }
   ],
   "source": [
    "HMM = HiddenMarkov()\n",
    "HMM.forward(A, B, pi, O, N, T)"
   ]
  },
  {
   "cell_type": "code",
   "execution_count": 34,
   "metadata": {},
   "outputs": [],
   "source": [
    "A = np.array([[0.5, 0.2, 0.3], [0.3, 0.5, 0.2], [0.2, 0.3, 0.5]])\n",
    "B = np.array([[0.5, 0.5], [0.4, 0.6], [0.7, 0.3]])\n",
    "pi = np.array([0.2,0.4,0.4])\n",
    "O = np.array([0 ,1, 1, 0, 0]) # 观测序列 0表示红，1表示白\n",
    "\n",
    "N = 3 \n",
    "T = 5"
   ]
  },
  {
   "cell_type": "code",
   "execution_count": 35,
   "metadata": {},
   "outputs": [
    {
     "name": "stdout",
     "output_type": "stream",
     "text": [
      "beta5 [1. 1. 1.]\n",
      "beta4 [0.54 0.49 0.57]\n",
      "beta3 [0.2939 0.2588 0.3123]\n",
      "beta2 [0.132638 0.140463 0.122819]\n",
      "beta1 [0.06106877 0.06940374 0.05696999]\n",
      "后向算法：观测序列O出现的概率为0.033163\n"
     ]
    }
   ],
   "source": [
    "HMM = HiddenMarkov()\n",
    "HMM.backward(A, B, pi, O, N, T)"
   ]
  }
 ],
 "metadata": {
  "kernelspec": {
   "display_name": "Python 3.8.3 ('ML')",
   "language": "python",
   "name": "python3"
  },
  "language_info": {
   "codemirror_mode": {
    "name": "ipython",
    "version": 3
   },
   "file_extension": ".py",
   "mimetype": "text/x-python",
   "name": "python",
   "nbconvert_exporter": "python",
   "pygments_lexer": "ipython3",
   "version": "3.8.3"
  },
  "orig_nbformat": 4,
  "vscode": {
   "interpreter": {
    "hash": "64049391f96ba131a9e04c522b3e94cd43efdce572641ac76d85c52ad35b8cda"
   }
  }
 },
 "nbformat": 4,
 "nbformat_minor": 2
}
